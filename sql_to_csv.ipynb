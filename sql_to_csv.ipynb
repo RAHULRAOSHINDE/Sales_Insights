{
 "cells": [
  {
   "cell_type": "code",
   "execution_count": null,
   "id": "1937b319-3e5e-4800-8162-a711d98d43ab",
   "metadata": {},
   "outputs": [],
   "source": [
    "!apt-get update\n",
    "!pip install python_dotenv\n",
    "!pip install mysql-connector-python\n",
    "\n",
    "import os\n",
    "import mysql.connector\n",
    "from dotenv import load_dotenv\n",
    "import csv\n",
    "from datetime import datetime\n",
    "import re\n",
    "import numpy as np\n",
    "import pandas as pd\n",
    "import uuid"
   ]
  },
  {
   "cell_type": "code",
   "execution_count": null,
   "id": "499db4c8-c24c-4060-8ad7-ae633f0e26f5",
   "metadata": {},
   "outputs": [],
   "source": [
    "class DBHandler:\n",
    "    def __init__(self):\n",
    "        load_dotenv('/root/Desktop/sales/cred.env')\n",
    "        db_host=os.environ.get('DB_HOST')\n",
    "        db_user=os.environ.get('DB_USER')\n",
    "        db_password=os.environ.get('DB_PASSWORD')\n",
    "        self.mydb=mysql.connector.connect(\n",
    "            host=db_host,\n",
    "            user=db_user,\n",
    "            password=db_password\n",
    "        )\n",
    "\n",
    "    def retrieve_data(self):\n",
    "        mycursor = self.mydb.cursor()\n",
    "        mycursor.execute(\"USE sales\")\n",
    "        cdc=pd.read_sql(f\"SELECT*FROM week_over_week_growth\",self.mydb)\n",
    "        return cdc\n"
   ]
  },
  {
   "cell_type": "code",
   "execution_count": null,
   "id": "74d2e2ea-8bc8-4b51-a462-d18404860b26",
   "metadata": {},
   "outputs": [],
   "source": [
    "if __name__ == \"__main__\":\n",
    "    extract_data=DBHandler()\n",
    "    db_data=extract_data.retrieve_data()\n",
    "    db_data.to_csv('/root/Desktop/sales/Output/week_over_week_growth.csv', index=False, na_rep='NULL')"
   ]
  },
  {
   "cell_type": "code",
   "execution_count": null,
   "id": "d1856c47-d014-4ecf-a407-2a7fec8b80f9",
   "metadata": {},
   "outputs": [],
   "source": []
  }
 ],
 "metadata": {
  "kernelspec": {
   "display_name": "Python 3 (ipykernel)",
   "language": "python",
   "name": "python3"
  },
  "language_info": {
   "codemirror_mode": {
    "name": "ipython",
    "version": 3
   },
   "file_extension": ".py",
   "mimetype": "text/x-python",
   "name": "python",
   "nbconvert_exporter": "python",
   "pygments_lexer": "ipython3",
   "version": "3.8.10"
  }
 },
 "nbformat": 4,
 "nbformat_minor": 5
}
